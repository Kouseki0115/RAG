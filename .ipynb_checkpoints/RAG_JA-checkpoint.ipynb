{
 "cells": [
  {
   "cell_type": "markdown",
   "id": "3d49257c-2ae9-49b3-8b00-838403451229",
   "metadata": {},
   "source": [
    "# RAG"
   ]
  },
  {
   "cell_type": "markdown",
   "id": "bf9a3319-1e6f-492a-90ef-161723a38120",
   "metadata": {},
   "source": [
    "## Retrival documents preprocessing"
   ]
  },
  {
   "cell_type": "markdown",
   "id": "c14a3181-19be-4dab-b8f5-27d84b6aa052",
   "metadata": {},
   "source": [
    "### Document loader"
   ]
  },
  {
   "cell_type": "code",
   "execution_count": 1,
   "id": "bb96e3de-adfe-4466-9174-981fd63b70a5",
   "metadata": {},
   "outputs": [],
   "source": [
    "# Import packages\n",
    "import re\n",
    "from langchain_community.document_loaders import PyPDFium2Loader"
   ]
  },
  {
   "cell_type": "code",
   "execution_count": 2,
   "id": "e9209168-7522-47fe-abd4-9cb1d0684f6b",
   "metadata": {},
   "outputs": [],
   "source": [
    "path = \"https://www.pmda.go.jp/files/000246306.pdf\""
   ]
  },
  {
   "cell_type": "code",
   "execution_count": 3,
   "id": "2912ef0d-30dc-4985-b893-145f724f8b19",
   "metadata": {},
   "outputs": [],
   "source": [
    "def pdf_loader_JA(path):\n",
    "    loader = PyPDFium2Loader(path)\n",
    "    docs = loader.load()\n",
    "    pattern = r'[^\\u3000-\\u303f\\u3040-\\u309f\\u30a0-\\u30ff\\uff00-\\uff9f\\u4e00-\\u9faf\\u3400-\\u4dbf]'\n",
    "    for doc in docs:\n",
    "        doc.page_content = re.sub(pattern, '', doc.page_content)\n",
    "    docs = [doc for doc in docs if doc.page_content.strip() != '']\n",
    "    return docs"
   ]
  },
  {
   "cell_type": "markdown",
   "id": "7c5a8b9a-9754-4ae5-80bc-6cc3e8fcdd95",
   "metadata": {},
   "source": [
    "### Text splitter"
   ]
  },
  {
   "cell_type": "code",
   "execution_count": 4,
   "id": "73e0e0be-1d4d-43b7-b173-fe0245babe72",
   "metadata": {},
   "outputs": [],
   "source": [
    "# Import packages\n",
    "from langchain.text_splitter import RecursiveCharacterTextSplitter"
   ]
  },
  {
   "cell_type": "code",
   "execution_count": 5,
   "id": "d785c6e6-fd0e-46e8-94c7-c0e18941e45c",
   "metadata": {},
   "outputs": [],
   "source": [
    "def text_splitter(docs):\n",
    "    separators = [\"。\", \"、\", \"\"]\n",
    "    text_splitter = RecursiveCharacterTextSplitter(separators=separators, chunk_size=1000, chunk_overlap=0)\n",
    "    docs = text_splitter.split_documents(docs)\n",
    "    return docs"
   ]
  },
  {
   "cell_type": "markdown",
   "id": "50dd7bc5-d601-4fd3-b950-be1a177d7c88",
   "metadata": {},
   "source": [
    "## Retrival"
   ]
  },
  {
   "cell_type": "code",
   "execution_count": 6,
   "id": "78737c02-f531-4694-8f94-11bdbc4f05cd",
   "metadata": {},
   "outputs": [],
   "source": [
    "# Import packages\n",
    "from langchain_community.embeddings import HuggingFaceEmbeddings\n",
    "from langchain_community.vectorstores import Chroma\n",
    "from langchain.retrievers import BM25Retriever, EnsembleRetriever"
   ]
  },
  {
   "cell_type": "code",
   "execution_count": 7,
   "id": "c15666d7-a3b2-4d06-aac6-7ff1d095eeec",
   "metadata": {},
   "outputs": [],
   "source": [
    "# Set embedding model\n",
    "embedding_model = \"BAAI/bge-small-en-v1.5\""
   ]
  },
  {
   "cell_type": "code",
   "execution_count": 8,
   "id": "e477754f-dadc-4a91-a471-cf1368094987",
   "metadata": {},
   "outputs": [],
   "source": [
    "db_path = \"./chroma_db\""
   ]
  },
  {
   "cell_type": "code",
   "execution_count": 53,
   "id": "13bbd494-ecc5-4494-ba68-f644784d3dfa",
   "metadata": {},
   "outputs": [],
   "source": [
    "def ens_retriever(embedding_model, docs, db_path):\n",
    "    embeddings = HuggingFaceEmbeddings(model_name=embedding_model)\n",
    "    Chroma_retriever = Chroma.from_documents(docs, embeddings, persist_directory=db_path).as_retriever(search_kwargs={\"k\": 5})\n",
    "    bm25_retriever = BM25Retriever.from_documents(docs)\n",
    "    ensemble_retriever = EnsembleRetriever(retrievers=[bm25_retriever, Chroma_retriever], weights=[0.5, 0.5])\n",
    "    return ensemble_retriever"
   ]
  },
  {
   "cell_type": "markdown",
   "id": "1ffdcf5c-4b87-40a2-ba8f-c22000444a36",
   "metadata": {},
   "source": [
    "## Model"
   ]
  },
  {
   "cell_type": "code",
   "execution_count": 10,
   "id": "d9a89cae-ab52-4dde-952b-a32d09470759",
   "metadata": {},
   "outputs": [],
   "source": [
    "# Import packages\n",
    "import torch\n",
    "from transformers import BitsAndBytesConfig, AutoModelForCausalLM, AutoTokenizer, pipeline\n",
    "from langchain_community.llms.huggingface_pipeline import HuggingFacePipeline"
   ]
  },
  {
   "cell_type": "code",
   "execution_count": 11,
   "id": "9ca3bf73-7cb2-41da-9a45-ff79b3bbd784",
   "metadata": {},
   "outputs": [],
   "source": [
    "model_id = \"HuggingFaceH4/zephyr-7b-alpha\""
   ]
  },
  {
   "cell_type": "code",
   "execution_count": 75,
   "id": "fd6a9e76-f834-4e2e-be05-36e932655a31",
   "metadata": {},
   "outputs": [],
   "source": [
    "def model(model_id, batch_size=8, max_new_tokens=1024):\n",
    "    # Config quantization\n",
    "    quantization_config = BitsAndBytesConfig(\n",
    "        load_in_4bit=True,\n",
    "        bnb_4bit_compute_dtype=torch.float16,\n",
    "        bnb_4bit_quant_type=\"nf4\",\n",
    "        bnb_4bit_use_double_quant=True,\n",
    "    )\n",
    "    tokenizer = AutoTokenizer.from_pretrained(model_id, device_map=\"auto\", quantization_config=quantization_config)\n",
    "    model = AutoModelForCausalLM.from_pretrained(model_id, device_map=\"auto\", quantization_config=quantization_config)\n",
    "    pipe = pipeline(\"text-generation\", model=model, tokenizer=tokenizer, batch_size=batch_size, max_new_tokens=max_new_tokens)\n",
    "    hf = HuggingFacePipeline(pipeline=pipe)\n",
    "    return hf"
   ]
  },
  {
   "cell_type": "markdown",
   "id": "41d871f9-28b0-4b0b-930d-af884e0f1085",
   "metadata": {},
   "source": [
    "## Prompt"
   ]
  },
  {
   "cell_type": "code",
   "execution_count": 13,
   "id": "23901379-5831-4918-a4de-6d360a95a4dd",
   "metadata": {},
   "outputs": [],
   "source": [
    "# Import packages\n",
    "from langchain_core.prompts import ChatPromptTemplate\n",
    "from langchain.prompts.prompt import PromptTemplate"
   ]
  },
  {
   "cell_type": "code",
   "execution_count": 69,
   "id": "04b8a455-6ee6-4174-9604-570398da6e22",
   "metadata": {},
   "outputs": [],
   "source": [
    "_template = \"\"\"Given the following conversation and a follow up question, rephrase the follow up question to be a standalone question, in Japanese.\n",
    "\n",
    "Chat History:\n",
    "{chat_history}\n",
    "Follow Up Input: {question}\n",
    "Standalone question:\"\"\"\n",
    "CONDENSE_QUESTION_PROMPT = PromptTemplate.from_template(_template)"
   ]
  },
  {
   "cell_type": "code",
   "execution_count": 79,
   "id": "87db7c8e-96bf-42c7-b01a-a29e582eede2",
   "metadata": {},
   "outputs": [],
   "source": [
    "template = \"\"\"Answer the question base on the following context:\n",
    "{context}\n",
    "\n",
    "Question: {question}\n",
    "\"\"\"\n",
    "ANSWER_PROMPT = ChatPromptTemplate.from_template(template)"
   ]
  },
  {
   "cell_type": "code",
   "execution_count": 71,
   "id": "1dfa6dd6-631f-47b1-951c-def4f03de275",
   "metadata": {},
   "outputs": [],
   "source": [
    "DEFAULT_DOCUMENT_PROMPT = PromptTemplate.from_template(template=\"{page_content}\")"
   ]
  },
  {
   "cell_type": "markdown",
   "id": "d93bf222-988e-405c-852b-b22895ae9ea0",
   "metadata": {},
   "source": [
    "## Chain"
   ]
  },
  {
   "cell_type": "code",
   "execution_count": 17,
   "id": "cfc619e3-4579-49c9-a8a3-26eb9bc767af",
   "metadata": {},
   "outputs": [],
   "source": [
    "from operator import itemgetter\n",
    "from langchain_core.output_parsers import StrOutputParser\n",
    "from langchain_core.prompts import format_document\n",
    "from langchain_core.messages import AIMessage, HumanMessage, get_buffer_string\n",
    "from langchain_core.runnables import RunnableLambda, RunnablePassthrough\n",
    "from langchain.memory import ConversationBufferMemory"
   ]
  },
  {
   "cell_type": "code",
   "execution_count": 18,
   "id": "0953913b-bbe1-41ef-9dc9-66debaf2b7d2",
   "metadata": {},
   "outputs": [],
   "source": [
    "def combine_documents(docs, document_prompt=DEFAULT_DOCUMENT_PROMPT, document_separator=\"\\n\\n\"):\n",
    "    doc_strings = [format_document(doc, document_prompt) for doc in docs]\n",
    "    return document_separator.join(doc_strings)"
   ]
  },
  {
   "cell_type": "code",
   "execution_count": 87,
   "id": "1ce8f93f-ad61-45a2-aa54-7d9b5fe0f252",
   "metadata": {},
   "outputs": [],
   "source": [
    "def chain(input, model, retriever, combine_documents=combine_documents, question_prompt=CONDENSE_QUESTION_PROMPT, answer_prompt=ANSWER_PROMPT):\n",
    "    memory = ConversationBufferMemory(return_messages=True, output_key=\"answer\", input_key=\"question\")\n",
    "    loaded_memory = RunnablePassthrough.assign(chat_history=RunnableLambda(memory.load_memory_variables) | itemgetter(\"history\"))\n",
    "    standalone_question = {\n",
    "        \"standalone_question\": {\n",
    "            \"question\": lambda x: x[\"question\"],\n",
    "            \"chat_history\": lambda x: get_buffer_string(x[\"chat_history\"]),\n",
    "        }\n",
    "        | question_prompt\n",
    "        | model\n",
    "        | StrOutputParser(),\n",
    "    }\n",
    "    retrieved_documents = {\n",
    "        \"docs\": itemgetter(\"standalone_question\") | retriever,\n",
    "        \"question\": lambda x: x[\"standalone_question\"],\n",
    "    }\n",
    "    final_inputs = {\n",
    "        \"context\": lambda x: combine_documents(x[\"docs\"]),\n",
    "        \"question\": itemgetter(\"question\"),\n",
    "    }\n",
    "    answer = {\n",
    "        \"answer\": final_inputs | answer_prompt | model,\n",
    "        \"docs\": itemgetter(\"docs\"),\n",
    "    }\n",
    "    final_chain = loaded_memory | standalone_question | retrieved_documents | answer\n",
    "    result = final_chain.invoke(input)\n",
    "    memory.save_context(input, {\"answer\": result['answer']})\n",
    "    return  result"
   ]
  },
  {
   "cell_type": "code",
   "execution_count": null,
   "id": "840abc99-d5d4-4d20-9b14-7dd54d91c2ea",
   "metadata": {},
   "outputs": [],
   "source": []
  },
  {
   "cell_type": "code",
   "execution_count": null,
   "id": "45b81a37-fade-4e96-9916-a740c65eea2d",
   "metadata": {},
   "outputs": [],
   "source": []
  },
  {
   "cell_type": "code",
   "execution_count": null,
   "id": "7839fa25-5a3e-46c8-9f4e-61326da758a6",
   "metadata": {},
   "outputs": [],
   "source": []
  },
  {
   "cell_type": "markdown",
   "id": "8f6d1ecf-7210-4b7f-b25b-614f966b0ea4",
   "metadata": {},
   "source": [
    "# Test"
   ]
  },
  {
   "cell_type": "code",
   "execution_count": 20,
   "id": "9ed41460-84ac-450a-a5d5-db56e7082382",
   "metadata": {},
   "outputs": [],
   "source": [
    "#path = \"https://www.pmda.go.jp/files/000246306.pdf\"\n",
    "path = \"https://www.ritsumei.ac.jp/ir/isaru/assets/file/journal/22-2_08_Kimura.pdf\""
   ]
  },
  {
   "cell_type": "code",
   "execution_count": 21,
   "id": "7ff9bf05-86fd-4a7c-86f4-de76b0911684",
   "metadata": {},
   "outputs": [],
   "source": [
    "docs = text_splitter(pdf_loader_JA(path))"
   ]
  },
  {
   "cell_type": "code",
   "execution_count": 22,
   "id": "299a6eb0-3148-4f21-8a64-8d13c74984d5",
   "metadata": {},
   "outputs": [],
   "source": [
    "model_id = \"HuggingFaceH4/zephyr-7b-alpha\"\n",
    "embedding_model = \"BAAI/bge-small-en-v1.5\"\n",
    "db_path = \"./chroma_db\""
   ]
  },
  {
   "cell_type": "code",
   "execution_count": 76,
   "id": "ac65b180-d98a-4ac2-a6a4-60890f901a4b",
   "metadata": {},
   "outputs": [
    {
     "data": {
      "application/vnd.jupyter.widget-view+json": {
       "model_id": "b5b7f7bfe298455a910459a871dad2ce",
       "version_major": 2,
       "version_minor": 0
      },
      "text/plain": [
       "Loading checkpoint shards:   0%|          | 0/8 [00:00<?, ?it/s]"
      ]
     },
     "metadata": {},
     "output_type": "display_data"
    }
   ],
   "source": [
    "model = model(model_id)"
   ]
  },
  {
   "cell_type": "code",
   "execution_count": 54,
   "id": "5b140cba-d8f0-42bb-b83c-1f50b4e77b6f",
   "metadata": {},
   "outputs": [],
   "source": [
    "retriever = ens_retriever(embedding_model, docs, db_path)"
   ]
  },
  {
   "cell_type": "code",
   "execution_count": 84,
   "id": "b4c6d235-74bf-4156-8c7a-8bfb1b310f65",
   "metadata": {},
   "outputs": [],
   "source": [
    "input =  {\"question\": \"日本人特殊論は何ですか\"}"
   ]
  },
  {
   "cell_type": "code",
   "execution_count": 88,
   "id": "5962f926-2e5f-4319-9c5e-6557560a9cbc",
   "metadata": {},
   "outputs": [
    {
     "name": "stderr",
     "output_type": "stream",
     "text": [
      "Setting `pad_token_id` to `eos_token_id`:2 for open-end generation.\n",
      "Setting `pad_token_id` to `eos_token_id`:2 for open-end generation.\n"
     ]
    }
   ],
   "source": [
    "rag_test = chain(input, model=model, retriever=retriever)"
   ]
  },
  {
   "cell_type": "code",
   "execution_count": 89,
   "id": "22b2214c-72e4-4afb-9729-e79d39e0646e",
   "metadata": {
    "scrolled": true
   },
   "outputs": [
    {
     "data": {
      "text/plain": [
       "{'answer': '\\nAnswer: 日本人に特殊な論を持っているのは、他の社会にも存在する特性が見られるということです。たとえば、稲村は「固まる傾向」を挙げているが、その傾向は中国人・ユダヤ人・インド人にも見られると書かれてある。しかし、稲村によれば、彼らの固まり方は日本人とは大きく異なるという。',\n",
       " 'docs': [Document(page_content='。．日本人特殊論の方法論的問題点前節では，不適応の要因とされる「日本的」特性が，あたかも日本独自のものであるかのよ', metadata={'page': 7, 'source': 'https://www.ritsumei.ac.jp/ir/isaru/assets/file/journal/22-2_08_Kimura.pdf'}),\n",
       "  Document(page_content='立命館国際研究\\u3000，（）（）', metadata={'source': 'https://www.ritsumei.ac.jp/ir/isaru/assets/file/journal/22-2_08_Kimura.pdf', 'page': 21}),\n",
       "  Document(page_content='「異文化適応」論の中の日本人特殊論について（木村）（）\\u3000日本人の行動・振る舞いに対する嫌悪感不適応の要因として挙げられているだけに，「日本的」特性の内容には否定的なニュアンスが漂っている。論者たちには，これらの特性は日本人が改めるべきものとして映っているのである。したがって，彼らは他の日本人が取る行動に対して非常に敏感に反応する。他の日本人が（とくに海外で）「典型的な日本人」の行動・振る舞いをしようものなら，論者たちは非難の矛先をその日本人に対して向けることになる。この例を中根から引こう。「（引用者注：ロンドン大学で）社会人類学の同僚とお茶を飲みながら談笑していたとき，ちょうどアメリカの大学の出張講義から帰ったばかりの教授が「そういえば，チエ，君を知っているという教授（日本人）に会ったよ。」と私にいっておいて，一同を見まわし，「それがとてもおもしろかったんだ。僕は彼が民族学者だというので，ミス・ナカネとお知り合いですか，ときいたんだ。彼氏曰く『よく知っています。』，ところがその後でいうことがふるってるんだ」。そこでちょっと間をおいて，彼はいかにもいたずらそうにオチを次のようにつけたのである。「『しかし，彼女は私の後輩なんです！』と」。その時，話し手も聞き手も一度にどっと笑ったのである。」（中根，傍点原文）日本において，ある知り合いが先輩・後輩の間柄にあるとき，そのことに触れるのは何ら不自然なことではない。中根だってそのことは十分に知っているはずである。しかし，彼女はそうした典型的な日本的行動・思考様式を海外で表明することには否定的なのである。外国人とともにその日本人の発言を嘲笑するという行為にそれは表れている。そうかと思うと，もう一方では，外国崇拝を露骨に見せる日本人を，「アチラにイカレタ」タイプとして批判する（中根，）。どちらにせよ，日本人の行動・振る舞いに対しては，厳しい視線が注がれるのである。この点は，他の社会にも日本と同じような特性が見られた場合の，論者の「解釈」の違いにもよく表れている。たとえば，稲村は日本人の特性として「固まる傾向」を挙げているが，さらに読み進めれば，この傾向は中国人・ユダヤ人・インド人にも見られると書かれてある。しかし，稲村によれば，彼らの固まり方は日本人とは大きく異なるという。たとえば中国人との違いについては，次のように論じている', metadata={'source': 'https://www.ritsumei.ac.jp/ir/isaru/assets/file/journal/22-2_08_Kimura.pdf', 'page': 6}),\n",
       "  Document(page_content='。」（稲村，）外国人について述べたこれらの箇所と，日本人について述べた「日本人のソトに対する興味，', metadata={'source': 'https://www.ritsumei.ac.jp/ir/isaru/assets/file/journal/22-2_08_Kimura.pdf', 'page': 9}),\n",
       "  Document(page_content='立命館国際研究\\u3000，（）づくりである。スケープゴートは何も日本人だけがつくるわけではなく，他の国の人々もそれぞれにつくっている。しかし，日本人のそれは非常に独特な点の多いのが注目される。」（稲村，）。この場合も，「独特」と述べるからには，他の国の人々と何が異なるかを明らかにしなければならないはずだが，この文章で触れられているのは日本人のケースばかりであって，外国人についてはまったく触れられていない。それで，なぜ「独特」といえるのか。その根拠は本文中からは見出すことができないのである。\\u3000命題間の矛盾第二の問題点は，列挙される命題に矛盾が生じていることである。杉本とマオアは，中根の『タテ社会の人間関係』を取り上げた際に，この問題を「命題間の矛盾」と呼んで指摘している（杉本・マオア，）。この点については興味深いことに，中根においても稲村においても，「外国に対する知識」という命題において，共通する矛盾を引き起こしている。日本人は国外に自分たち以外のシステムがあるということをよく理解していない，よって自分のやり方を相手にも押しつけようとする，というのが先述のとおり中根の議論の骨子であった。稲村においても，日本人の異質文化に触れる経験の乏しさが不適応につながっているという主張がされている。しかし，これらとは別に，「日本的」特性がいかにユニークなものであるかを論じる文脈においては，反対に，外国人の日本に対する知識の乏しさが強調されている。すなわち，日本人が期待しているほど日本は外国人に知られているわけではないので，日本人はきちんとそれを認識して行動せよ，と彼らは主張するのである。その文脈では彼らは次のように述べている。「これらの国々（引用者注：欧米・中国・インド）の全体像ならびに特色が相当よくわかっているのに対して，日本の場合，知られているのは，私たち日本人からみると，極端な側面の断片的な部分であるために，イメージとしては何となく気味がわるいものとなっており，まったく知られていないより，マイナスの効果さえもっている。」（中根，）「欧米の白人至上主義的な考えは今日なお頑固なほど徹底した面があって，差別するかしないかは別として，意識にも視界にも日本など入っていないかにみえる。日本がどこにあるかも知らなければ，どんな特徴があるかも全く知らない人が多い', metadata={'source': 'https://www.ritsumei.ac.jp/ir/isaru/assets/file/journal/22-2_08_Kimura.pdf', 'page': 9})]}"
      ]
     },
     "execution_count": 89,
     "metadata": {},
     "output_type": "execute_result"
    }
   ],
   "source": [
    "rag_test"
   ]
  },
  {
   "cell_type": "code",
   "execution_count": null,
   "id": "d4643014-4c28-4082-9b0d-35e0d5f5ce37",
   "metadata": {},
   "outputs": [],
   "source": []
  }
 ],
 "metadata": {
  "kernelspec": {
   "display_name": "Python 3 (ipykernel)",
   "language": "python",
   "name": "python3"
  },
  "language_info": {
   "codemirror_mode": {
    "name": "ipython",
    "version": 3
   },
   "file_extension": ".py",
   "mimetype": "text/x-python",
   "name": "python",
   "nbconvert_exporter": "python",
   "pygments_lexer": "ipython3",
   "version": "3.12.1"
  }
 },
 "nbformat": 4,
 "nbformat_minor": 5
}
